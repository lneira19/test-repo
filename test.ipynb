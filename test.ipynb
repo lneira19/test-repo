{
 "cells": [
  {
   "cell_type": "code",
   "execution_count": 1,
   "id": "21ee57a4",
   "metadata": {},
   "outputs": [],
   "source": [
    "import os\n",
    "from dotenv import load_dotenv, dotenv_values"
   ]
  },
  {
   "cell_type": "code",
   "execution_count": 2,
   "id": "35264fc9",
   "metadata": {},
   "outputs": [],
   "source": [
    "load_dotenv()\n",
    "config = dotenv_values(\".env\")"
   ]
  },
  {
   "cell_type": "code",
   "execution_count": 3,
   "id": "b5619c34",
   "metadata": {},
   "outputs": [],
   "source": [
    "from google import genai"
   ]
  },
  {
   "cell_type": "code",
   "execution_count": 4,
   "id": "0b8b51f6",
   "metadata": {},
   "outputs": [],
   "source": [
    "client = genai.Client(api_key=config[\"GOOGLE_API_KEY\"])"
   ]
  },
  {
   "cell_type": "code",
   "execution_count": 5,
   "id": "56c3ce11",
   "metadata": {},
   "outputs": [],
   "source": [
    "response = client.models.generate_content(\n",
    "    model=\"gemini-2.5-flash\",\n",
    "    contents=\"¿Qué significa la palabra 'kukushka' en español?\"\n",
    ")"
   ]
  },
  {
   "cell_type": "code",
   "execution_count": 7,
   "id": "f35a6f2d",
   "metadata": {},
   "outputs": [
    {
     "name": "stdout",
     "output_type": "stream",
     "text": [
      "La palabra 'kukushka' (кукушка en ruso) significa **'cuco'** en español.\n",
      "\n",
      "Se refiere al **ave cucú**. Es un término muy conocido en la cultura rusa, por ejemplo, es el título de una famosa canción de la banda de rock soviética/rusa Kino (interpretada por Viktor Tsoi).\n"
     ]
    }
   ],
   "source": [
    "print(response.text)"
   ]
  },
  {
   "cell_type": "code",
   "execution_count": 13,
   "id": "41bd81d2",
   "metadata": {},
   "outputs": [],
   "source": [
    "response_2 = client.models.generate_content_stream(\n",
    "    model=\"gemini-2.5-flash\",\n",
    "    contents=\"¿Puedes contarme un poco sobre Viktor Tsoi?\"\n",
    ")"
   ]
  },
  {
   "cell_type": "code",
   "execution_count": 14,
   "id": "359cbf9f",
   "metadata": {},
   "outputs": [
    {
     "name": "stdout",
     "output_type": "stream",
     "text": [
      "¡Claro que sí! Viktor Tsoi (Виктор Цой) fue una de las figuras más icónicas y legendarias del rock soviético y ruso. Fue el **líder, vocalista y principal letrista de la banda Kino (Кино)**, y un verdadero símbolo de la libertad, la juventud y el cambio en la Unión Soviética de finales de los 80.\n",
      "\n",
      "Aquí tienes un poco sobre él:\n",
      "\n",
      "1.  **Origen y Primeros Años:** Nació en Leningrado (hoy San Petersburgo) en 1962. Su padre era de origen coreano y su madre rusa. Estudió arte y escultura, lo que influiría en su sensibilidad artística y en la estética de Kino.\n",
      "\n",
      "2.  **Kino (Кино):** Formó la banda Kino a principios de los años 80. Su música combinaba elementos del post-punk, new wave y rock, con letras profundas y poéticas. Se destacaron por sus melodías pegadizas y un sonido distintivo que resonó con millones.\n",
      "\n",
      "3.  **Estilo Musical y Temas:** Las letras de Tsoi eran directas, introspectivas y a menudo melancólicas. Hablaban de la vida cotidiana, la búsqueda de significado, la libertad personal, la soledad y la esperanza en tiempos de cambio. Su lenguaje era accesible pero cargado de simbolismo, lo que permitía a cada oyente encontrar su propia interpretación.\n",
      "\n",
      "4.  **La Voz de una Generación:** Con la llegada de la Perestroika y la Glasnost a finales de los 80, Kino y Viktor Tsoi se convirtieron en la banda sonora de una generación que anhelaba un futuro diferente. Sus canciones se convirtieron en himnos extraoficiales, expresando el descontento y las aspiraciones de la juventud soviética.\n",
      "\n",
      "5.  **Imagen y Carisma:** Viktor Tsoi proyectaba una imagen de estoicismo y quietud. Su voz profunda y su presencia carismática pero reservada lo convirtieron en un \"héroe silencioso\" para una generación. Era conocido por su estilo sencillo pero distintivo, a menudo vistiendo camisetas negras y chaquetas de cuero.\n",
      "\n",
      "6.  **Canciones Icónicas:** Algunas de sus canciones más famosas incluyen:\n",
      "    *   **\"Gruppa Krovi\" (Группа крови - Grupo Sanguíneo):** Quizás su canción más famosa, un himno generacional sobre la guerra y la vida.\n",
      "    *   **\"Zvezda po imeni Solntse\" (Звезда по имени Солнце - Una Estrella Llamada Sol):** Un clásico con un tono más contemplativo y esperanzador.\n",
      "    *   **\"Khochu Peremen!\" (Хочу перемен! - ¡Quiero Cambios!):** Un grito de batalla para la juventud soviética que buscaba un nuevo rumbo.\n",
      "    *   **\"Posledniy Geroy\" (Последний герой - El Último Héroe):** Una de las canciones que definieron su imagen.\n",
      "\n",
      "7.  **Muerte Trágica y Legado:** El 15 de agosto de 1990, Viktor Tsoi murió trágicamente en un accidente automovilístico en Letonia, a la edad de 28 años. Su muerte prematura solo solidificó su estatus de leyenda, convirtiéndolo en un \"último héroe\" literal para muchos.\n",
      "\n",
      "A día de hoy, Viktor Tsoi sigue siendo una figura venerada en Rusia y en todas las antiguas repúblicas soviéticas. Sus canciones son interpretadas por nuevas generaciones, sus murales decoran ciudades y su legado cultural es inmenso. Es más que un músico; es un símbolo de una época, un portavoz de los sueños y las esperanzas de millones."
     ]
    }
   ],
   "source": [
    "for chunk in response_2:\n",
    "    print(chunk.text, end=\"\", flush=True)"
   ]
  }
 ],
 "metadata": {
  "kernelspec": {
   "display_name": "lang",
   "language": "python",
   "name": "python3"
  },
  "language_info": {
   "codemirror_mode": {
    "name": "ipython",
    "version": 3
   },
   "file_extension": ".py",
   "mimetype": "text/x-python",
   "name": "python",
   "nbconvert_exporter": "python",
   "pygments_lexer": "ipython3",
   "version": "3.13.9"
  }
 },
 "nbformat": 4,
 "nbformat_minor": 5
}
